{
 "cells": [
  {
   "cell_type": "markdown",
   "metadata": {
    "slideshow": {
     "slide_type": "slide"
    }
   },
   "source": [
    "**Big data и облачные технологии**"
   ]
  },
  {
   "cell_type": "markdown",
   "metadata": {
    "slideshow": {
     "slide_type": "slide"
    }
   },
   "source": [
    "![Картинка про большие данные](./img/lotofdata.jpg)"
   ]
  },
  {
   "cell_type": "markdown",
   "metadata": {
    "slideshow": {
     "slide_type": "slide"
    }
   },
   "source": [
    "![Картинка про то что все сложно и хоть стреляйся](./img/lotofservers.jpg)"
   ]
  },
  {
   "cell_type": "markdown",
   "metadata": {
    "slideshow": {
     "slide_type": "slide"
    }
   },
   "source": [
    "![Картинка про то что все сложно и хоть стреляйся](./img/meteo_data.gif)"
   ]
  },
  {
   "cell_type": "markdown",
   "metadata": {
    "slideshow": {
     "slide_type": "slide"
    }
   },
   "source": [
    "![Картинка про то как круто когда мы что-то понимаем](./img/MetView.jpg)"
   ]
  },
  {
   "cell_type": "markdown",
   "metadata": {
    "slideshow": {
     "slide_type": "slide"
    }
   },
   "source": [
    "![Картинка про то как круто когда мы что-то понимаем](./img/algorithms.jpg)"
   ]
  },
  {
   "cell_type": "markdown",
   "metadata": {
    "slideshow": {
     "slide_type": "slide"
    }
   },
   "source": [
    "![Языки программирования - какие и зачем?](./img/programming_langs.jpg)"
   ]
  },
  {
   "cell_type": "markdown",
   "metadata": {
    "collapsed": true,
    "slideshow": {
     "slide_type": "slide"
    }
   },
   "source": [
    "![Pyhton?](./img/smilingpython.gif)"
   ]
  },
  {
   "cell_type": "markdown",
   "metadata": {
    "collapsed": true,
    "slideshow": {
     "slide_type": "slide"
    }
   },
   "source": [
    "![Python](./img/python-logo.png)"
   ]
  },
  {
   "cell_type": "markdown",
   "metadata": {
    "collapsed": true,
    "slideshow": {
     "slide_type": "slide"
    }
   },
   "source": [
    "![Python](./img/value-container.jpg)"
   ]
  },
  {
   "cell_type": "markdown",
   "metadata": {
    "collapsed": true,
    "slideshow": {
     "slide_type": "slide"
    }
   },
   "source": [
    "![Python](./img/Python-variables.png)"
   ]
  },
  {
   "cell_type": "code",
   "execution_count": 20,
   "metadata": {
    "collapsed": false,
    "slideshow": {
     "slide_type": "slide"
    }
   },
   "outputs": [
    {
     "name": "stdout",
     "output_type": "stream",
     "text": [
      "a в первый раз: 123\n",
      "a во второй раз: 444\n"
     ]
    }
   ],
   "source": [
    "a = 123\n",
    "print(\"a в первый раз:\", a)\n",
    "a = a + 321\n",
    "print(\"a во второй раз:\", a)\n"
   ]
  },
  {
   "cell_type": "markdown",
   "metadata": {
    "slideshow": {
     "slide_type": "slide"
    }
   },
   "source": [
    "![Python](./img/Thermometer_CF.svg.png)"
   ]
  },
  {
   "cell_type": "markdown",
   "metadata": {
    "slideshow": {
     "slide_type": "fragment"
    }
   },
   "source": [
    "![Python](./img/f_c_conv.jpg)"
   ]
  },
  {
   "cell_type": "code",
   "execution_count": 21,
   "metadata": {
    "collapsed": false,
    "scrolled": true,
    "slideshow": {
     "slide_type": "slide"
    }
   },
   "outputs": [
    {
     "name": "stdout",
     "output_type": "stream",
     "text": [
      "77.0\n"
     ]
    }
   ],
   "source": [
    "Temp_C = 25 #Наша температура в целсиях\n",
    "frac =  1.8000 #Модификатор 1\n",
    "adder = 32.00 #Модификатор 2\n",
    "Temp_F = Temp_C * frac + adder #Формула расчета градусов в фарингейтах\n",
    "print(Temp_F)"
   ]
  },
  {
   "cell_type": "code",
   "execution_count": 23,
   "metadata": {
    "collapsed": false,
    "slideshow": {
     "slide_type": "fragment"
    }
   },
   "outputs": [
    {
     "name": "stdout",
     "output_type": "stream",
     "text": [
      "Температура в фарингейтах 77.0\n"
     ]
    }
   ],
   "source": [
    "message = \"Температура в фарингейтах\"  # Строка\n",
    "print(message, Temp_F) #Выводим две строки"
   ]
  },
  {
   "cell_type": "markdown",
   "metadata": {
    "collapsed": true,
    "slideshow": {
     "slide_type": "slide"
    }
   },
   "source": [
    "![Python](./img/lineOfBoxes.gif)"
   ]
  },
  {
   "cell_type": "code",
   "execution_count": 63,
   "metadata": {
    "collapsed": false,
    "slideshow": {
     "slide_type": "slide"
    }
   },
   "outputs": [
    {
     "name": "stdout",
     "output_type": "stream",
     "text": [
      "Первый Элемент массива: 1\n",
      "Длинна массива: 6\n",
      "Максимальный элемент: 4\n",
      "Минимальный элемент: -2\n",
      "Последний элемент массива: I am last\n"
     ]
    }
   ],
   "source": [
    "L = [1,2,3,4, -2, 0] #Массив\n",
    "print('Первый Элемент массива:', L[0]) #Вытащить элемент \n",
    "print('Длинна массива:', len(L)) #Узнать длинну массива \n",
    "print('Максимальный элемент:', max(L)) #Узнать максимальный элемент массива\n",
    "print('Минимальный элемент:', min(L)) #Узнать минимальный элемент массива\n",
    "L.append(\"I am last\") #Добавить эелемент в массив\n",
    "print('Последний элемент массива:', L[len(L) - 1]) #Вытащить последний элемент"
   ]
  },
  {
   "cell_type": "markdown",
   "metadata": {
    "slideshow": {
     "slide_type": "slide"
    }
   },
   "source": [
    "![Python](./img/ifelse.png)"
   ]
  },
  {
   "cell_type": "code",
   "execution_count": 32,
   "metadata": {
    "collapsed": false,
    "slideshow": {
     "slide_type": "slide"
    }
   },
   "outputs": [
    {
     "name": "stdout",
     "output_type": "stream",
     "text": [
      "Пора вставать\n"
     ]
    }
   ],
   "source": [
    "sun_is_up = True #Утверждение истенно\n",
    "\n",
    "if (sun_is_up):\n",
    "    print('Пора вставать')\n",
    "else:\n",
    "    print('Можно еще спать')"
   ]
  },
  {
   "cell_type": "code",
   "execution_count": 37,
   "metadata": {
    "collapsed": false,
    "slideshow": {
     "slide_type": "slide"
    }
   },
   "outputs": [
    {
     "name": "stdout",
     "output_type": "stream",
     "text": [
      "Низзя купаться!\n"
     ]
    }
   ],
   "source": [
    "can_swim = False #Утверждение ложно\n",
    "\n",
    "if (can_swim):\n",
    "    print('Купаться!')\n",
    "else:\n",
    "    print('Низзя купаться!')"
   ]
  },
  {
   "cell_type": "code",
   "execution_count": 50,
   "metadata": {
    "collapsed": false,
    "slideshow": {
     "slide_type": "slide"
    }
   },
   "outputs": [
    {
     "name": "stdout",
     "output_type": "stream",
     "text": [
      "Вода - жидкая\n"
     ]
    }
   ],
   "source": [
    "current_temperature = 2.4\n",
    "\n",
    "if (current_temperature > 0 ): #Значение больше чем ноль\n",
    "    print('Вода - жидкая')\n",
    "elif (current_temperature == 0): #Значение равно нулю\n",
    "    print('Вода - странная')\n",
    "else: #Какое тут значение?\n",
    "    print('Вода - твердая')"
   ]
  },
  {
   "cell_type": "code",
   "execution_count": 71,
   "metadata": {
    "collapsed": false,
    "slideshow": {
     "slide_type": "slide"
    }
   },
   "outputs": [
    {
     "name": "stdout",
     "output_type": "stream",
     "text": [
      "1\n",
      "2\n",
      "3\n",
      "4\n",
      "-2\n",
      "0\n",
      "I am last\n"
     ]
    }
   ],
   "source": [
    "for element in L:\n",
    "    print(element)"
   ]
  },
  {
   "cell_type": "code",
   "execution_count": 68,
   "metadata": {
    "collapsed": false,
    "slideshow": {
     "slide_type": "slide"
    }
   },
   "outputs": [
    {
     "name": "stdout",
     "output_type": "stream",
     "text": [
      "[0, 1, 2, 3, 4]\n"
     ]
    }
   ],
   "source": [
    "print(list(range(5))) #Ф-я range генерирует массив от 0"
   ]
  },
  {
   "cell_type": "code",
   "execution_count": 70,
   "metadata": {
    "collapsed": false,
    "slideshow": {
     "slide_type": "slide"
    }
   },
   "outputs": [
    {
     "name": "stdout",
     "output_type": "stream",
     "text": [
      "Индекс: 0 Значение: 1\n",
      "Индекс: 1 Значение: 2\n",
      "Индекс: 2 Значение: 3\n",
      "Индекс: 3 Значение: 4\n",
      "Индекс: 4 Значение: -2\n",
      "Индекс: 5 Значение: 0\n",
      "Индекс: 6 Значение: I am last\n"
     ]
    }
   ],
   "source": [
    "for i in range(len(L)):\n",
    "    print('Индекс:', i, 'Значение:', L[i])"
   ]
  },
  {
   "cell_type": "markdown",
   "metadata": {
    "slideshow": {
     "slide_type": "slide"
    }
   },
   "source": [
    "**Задача 1**   \n",
    "Перевод Градусов фарингейтов в целсий"
   ]
  },
  {
   "cell_type": "code",
   "execution_count": 10,
   "metadata": {
    "collapsed": false
   },
   "outputs": [
    {
     "name": "stdout",
     "output_type": "stream",
     "text": [
      "25.0\n"
     ]
    }
   ],
   "source": [
    "Temp_F = 77.0\n",
    "frac = 1.8000\n",
    "adder = 32.00\n",
    "Temp_C = (Temp_F - adder)/frac\n",
    "print(Temp_C)"
   ]
  },
  {
   "cell_type": "markdown",
   "metadata": {},
   "source": [
    "**Задача 2**   \n",
    "Погода\n",
    "1. Средняя погода зимой  \n",
    "2. Самая теплая погода за год  \n",
    "\n",
    "Повышенной сложности  \n",
    "3. Месяц с самой переменчивой погодой  \n",
    "4. Когда был самый большой перепад погоды (между двумя соседнями днями)  "
   ]
  },
  {
   "cell_type": "code",
   "execution_count": 13,
   "metadata": {
    "collapsed": true
   },
   "outputs": [],
   "source": [
    "'''Погода за 2015 год'''\n",
    "january = [-14, -13, -11, -8, -5, -15, -14, -13, -11, -13, -13, -16, -7, -11, -12, -13, -14, -12, -15, -13, -11, -14, -14, -13, -10, -12, -17, -16, -14, -14, -15]\n",
    "february = [-14, -11, -16, -13, -12, -8, -16, -22, -17, -13, -14, -15, -12, -10, -11, -9, -7, -9, -11, -10, 0, -2, -7, -8, -11, -9, -12, -8]\n",
    "march = [-8, -8, -5, -8, -10, -6, -4, -4, -9, -9, -7, -4, -6, -7, 0, 0, -1, 0, 0, 2, 2, -4, -2, -1, 0, 3, 8, 5, 4, 3, 2]\n",
    "april = [1, 0, -1, 2, 2, -2, 0, 1, 3, 3, 2, 3, 3, 5, 4, 5, 6, 6, 4, 3, 6, 6, 5, 6, 4, 9, 9, 6, 8, 9]\n",
    "may = [7, 9, 8, 8, 7, 7, 7, 6, 8, 8, 8, 9, 9, 7, 6, 8, 9, 9, 9, 9, 9, 11, 10, 12, 11, 9, 2, 12, 11, 11, 12]\n",
    "june = [12, 11, 11, 12, 11, 11, 12, 13, 13, 13, 12, 12, 12, 13, 15, 14, 14, 15, 14, 14, 15, 15, 15, 16, 14, 14, 14, 15, 15, 14]\n",
    "july = [13, 13, 13, 14, 16, 14, 14, 14, 15, 19, 18, 18, 18, 14, 12, 14, 18, 17, 17, 18, 17, 19, 20, 20, 20, 20, 19, 21, 21, 22, 22]\n",
    "august = [20, 21, 22, 22, 24, 21, 21, 23, 22, 22, 21, 21, 20, 20, 20, 19, 19, 20, 21, 20, 19, 18, 19, 18, 16, 17, 16, 19, 18, 18, 18]\n",
    "september = [18, 18, 16, 14, 16, 17, 18, 17, 17, 16, 16, 15, 16, 17, 16, 17, 18, 16, 17, 17, 18, 18, 18, 17, 17, 14, 11, 12, 10, 12]\n",
    "octember = [10, 10, 10, 8, 15, 16, 14, 16, 9, 9, 8, 5, 6, 7, 8, 10, 15, 3, 10, 5, 0, 8, 12, 4, 2, 9, 4, 3, 1, 2, 5]\n",
    "november = [3, 7, 2, 9, 0, 1, 0, -1, -1, -1, 1, -1, 5, 6, 1, -2, -3, -3, -4, -5, -6, -6, -9, -9, -8, -8, -8, -8, -7, -8]\n",
    "december = [-8, 3, -6, -5, -8, -9, -8, -7, 0, -2, -10, -4, -6, -6, -4, -8, -8, -7, -4, -1, -3, -10, -1, -10, -9, -15, -12, -11, -10, -8, -9]"
   ]
  },
  {
   "cell_type": "code",
   "execution_count": 24,
   "metadata": {
    "collapsed": false,
    "slideshow": {
     "slide_type": "-"
    }
   },
   "outputs": [
    {
     "ename": "SyntaxError",
     "evalue": "invalid syntax (<ipython-input-24-aecbe17614f6>, line 4)",
     "output_type": "error",
     "traceback": [
      "\u001b[1;36m  File \u001b[1;32m\"<ipython-input-24-aecbe17614f6>\"\u001b[1;36m, line \u001b[1;32m4\u001b[0m\n\u001b[1;33m    for element for range\u001b[0m\n\u001b[1;37m                  ^\u001b[0m\n\u001b[1;31mSyntaxError\u001b[0m\u001b[1;31m:\u001b[0m invalid syntax\n"
     ]
    }
   ],
   "source": [
    "\n",
    "\n"
   ]
  }
 ],
 "metadata": {
  "celltoolbar": "Slideshow",
  "kernelspec": {
   "display_name": "Python 3",
   "language": "python",
   "name": "python3"
  },
  "language_info": {
   "codemirror_mode": {
    "name": "ipython",
    "version": 3
   },
   "file_extension": ".py",
   "mimetype": "text/x-python",
   "name": "python",
   "nbconvert_exporter": "python",
   "pygments_lexer": "ipython3",
   "version": "3.5.1"
  }
 },
 "nbformat": 4,
 "nbformat_minor": 0
}
