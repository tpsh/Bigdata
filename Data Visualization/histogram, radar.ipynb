{
 "cells": [
  {
   "cell_type": "code",
   "execution_count": null,
   "metadata": {
    "collapsed": true
   },
   "outputs": [],
   "source": []
  },
  {
   "cell_type": "code",
   "execution_count": null,
   "metadata": {
    "collapsed": true
   },
   "outputs": [],
   "source": []
  },
  {
   "cell_type": "code",
   "execution_count": 7,
   "metadata": {
    "collapsed": false
   },
   "outputs": [
    {
     "data": {
      "text/html": [
       "<iframe id=\"igraph\" scrolling=\"no\" style=\"border:none;\" seamless=\"seamless\" src=\"https://plot.ly/~lisenok1314/61.embed\" height=\"525px\" width=\"100%\"></iframe>"
      ],
      "text/plain": [
       "<plotly.tools.PlotlyDisplay object>"
      ]
     },
     "execution_count": 7,
     "metadata": {},
     "output_type": "execute_result"
    }
   ],
   "source": [
    "import plotly.plotly as py\n",
    "py.sign_in('lisenok1314', 'px7vhqgbfw')\n",
    "import plotly.graph_objs as go\n",
    "\n",
    "trace1 = go.Area(\n",
    "    r=[77.5, 75, 70.0, 45.0, 15, 42.5, 40.0, 62.5],\n",
    "    t=['North', 'N-E', 'East', 'S-E', 'South', 'S-W', 'West', 'N-W'],\n",
    "    name='11-14 m/s',\n",
    "    marker=dict(\n",
    "        color='rgb(106,81,163)'\n",
    "    )\n",
    ")\n",
    "trace2 = go.Area(\n",
    "    r=[57.49999999999999, 50.0, 45.0, 35.0, 20.0, 22.5, 37.5, 55.00000000000001],\n",
    "    t=['North', 'N-E', 'East', 'S-E', 'South', 'S-W', 'West', 'N-W'],\n",
    "    name='8-11 m/s',\n",
    "    marker=dict(\n",
    "        color='rgb(158,154,200)'\n",
    "    )\n",
    ")\n",
    "\n",
    "py.iplot({ 'data' : [trace1, trace2],\n",
    "'layout': go.Layout(\n",
    "    title='Wind Speed Distribution in Laurel, NE',\n",
    "    font=dict(\n",
    "        size=16\n",
    "    ),\n",
    "    legend=dict(\n",
    "        font=dict(\n",
    "            size=16\n",
    "        )\n",
    "    ),\n",
    "    radialaxis=dict(\n",
    "        ticksuffix='%'\n",
    "    ),\n",
    "    orientation=270\n",
    ")\n",
    "})"
   ]
  },
  {
   "cell_type": "code",
   "execution_count": 38,
   "metadata": {
    "collapsed": false
   },
   "outputs": [
    {
     "ename": "NameError",
     "evalue": "name 'hist' is not defined",
     "output_type": "error",
     "traceback": [
      "\u001b[1;31m---------------------------------------------------------------------------\u001b[0m",
      "\u001b[1;31mNameError\u001b[0m                                 Traceback (most recent call last)",
      "\u001b[1;32m<ipython-input-38-366c6c4b52b6>\u001b[0m in \u001b[0;36m<module>\u001b[1;34m()\u001b[0m\n\u001b[0;32m      6\u001b[0m \u001b[1;33m\u001b[0m\u001b[0m\n\u001b[0;32m      7\u001b[0m data = [\n\u001b[1;32m----> 8\u001b[1;33m     \u001b[0mhist\u001b[0m\u001b[1;33m(\u001b[0m\u001b[0mx\u001b[0m\u001b[1;33m)\u001b[0m\u001b[1;33m\u001b[0m\u001b[0m\n\u001b[0m\u001b[0;32m      9\u001b[0m \u001b[1;33m\u001b[0m\u001b[0m\n\u001b[0;32m     10\u001b[0m ]\n",
      "\u001b[1;31mNameError\u001b[0m: name 'hist' is not defined"
     ]
    }
   ],
   "source": [
    "import plotly.plotly as py\n",
    "import plotly.graph_objs as go\n",
    "\n",
    "import numpy as np\n",
    "x = [1,2,5,9,7]\n",
    "\n",
    "data = [\n",
    "    hist(x)\n",
    "    \n",
    "]\n",
    "py.iplot(data, filename='basic-histogram')"
   ]
  }
 ],
 "metadata": {
  "kernelspec": {
   "display_name": "Python 3",
   "language": "python",
   "name": "python3"
  },
  "language_info": {
   "codemirror_mode": {
    "name": "ipython",
    "version": 3
   },
   "file_extension": ".py",
   "mimetype": "text/x-python",
   "name": "python",
   "nbconvert_exporter": "python",
   "pygments_lexer": "ipython3",
   "version": "3.5.1"
  }
 },
 "nbformat": 4,
 "nbformat_minor": 0
}
