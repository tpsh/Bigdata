{
 "cells": [
  {
   "cell_type": "code",
   "execution_count": 1,
   "metadata": {
    "collapsed": false
   },
   "outputs": [],
   "source": [
    "import plotly as py\n",
    "import pandas as pd\n",
    "import numpy as np\n",
    "\n",
    "import plotly.plotly as py\n",
    "py.sign_in('Anastasia2102', 'z02xa2n4tg')\n",
    "\n",
    "from plotly.graph_objs import *"
   ]
  },
  {
   "cell_type": "code",
   "execution_count": 2,
   "metadata": {
    "collapsed": false
   },
   "outputs": [
    {
     "data": {
      "text/html": [
       "<iframe id=\"igraph\" scrolling=\"no\" style=\"border:none;\" seamless=\"seamless\" src=\"https://plot.ly/~Anastasia2102/124.embed\" height=\"525px\" width=\"100%\"></iframe>"
      ],
      "text/plain": [
       "<plotly.tools.PlotlyDisplay object>"
      ]
     },
     "execution_count": 2,
     "metadata": {},
     "output_type": "execute_result"
    }
   ],
   "source": [
    "import pandas \n",
    "from pandas import *\n",
    "table = read_csv('a.csv', ',')\n",
    "a = [3]\n",
    "l = a * len(table)\n",
    "py.iplot([{\n",
    "            'x': table.index,\n",
    "            'y': table['Voltage'],\n",
    "            'name': 'voltage'\n",
    "        },\n",
    "         {\n",
    "            'x': table.index,\n",
    "            'y': l,\n",
    "            'name': 'voltage_off'\n",
    "        }])"
   ]
  },
  {
   "cell_type": "code",
   "execution_count": 3,
   "metadata": {
    "collapsed": false
   },
   "outputs": [
    {
     "data": {
      "text/html": [
       "<div>\n",
       "<table border=\"1\" class=\"dataframe\">\n",
       "  <thead>\n",
       "    <tr style=\"text-align: right;\">\n",
       "      <th></th>\n",
       "      <th>Temperature</th>\n",
       "      <th>Light</th>\n",
       "      <th>Wind</th>\n",
       "      <th>Pressure</th>\n",
       "      <th>Voltage</th>\n",
       "      <th>Team</th>\n",
       "      <th>Date</th>\n",
       "    </tr>\n",
       "  </thead>\n",
       "  <tbody>\n",
       "    <tr>\n",
       "      <th>0</th>\n",
       "      <td>8.0</td>\n",
       "      <td>47</td>\n",
       "      <td>1.3</td>\n",
       "      <td>1021</td>\n",
       "      <td>6.8</td>\n",
       "      <td>0</td>\n",
       "      <td>Thu 24.03.2016 14:29</td>\n",
       "    </tr>\n",
       "    <tr>\n",
       "      <th>1</th>\n",
       "      <td>8.5</td>\n",
       "      <td>49</td>\n",
       "      <td>0.5</td>\n",
       "      <td>1022</td>\n",
       "      <td>6.9</td>\n",
       "      <td>0</td>\n",
       "      <td>Thu 24.03.2016 14:27</td>\n",
       "    </tr>\n",
       "    <tr>\n",
       "      <th>2</th>\n",
       "      <td>9.0</td>\n",
       "      <td>56</td>\n",
       "      <td>0.7</td>\n",
       "      <td>1022</td>\n",
       "      <td>6.9</td>\n",
       "      <td>0</td>\n",
       "      <td>Thu 24.03.2016 14:25</td>\n",
       "    </tr>\n",
       "    <tr>\n",
       "      <th>3</th>\n",
       "      <td>9.5</td>\n",
       "      <td>50</td>\n",
       "      <td>0.2</td>\n",
       "      <td>1021</td>\n",
       "      <td>7.0</td>\n",
       "      <td>0</td>\n",
       "      <td>Thu 24.03.2016 14:23</td>\n",
       "    </tr>\n",
       "    <tr>\n",
       "      <th>4</th>\n",
       "      <td>10.0</td>\n",
       "      <td>43</td>\n",
       "      <td>0.6</td>\n",
       "      <td>1021</td>\n",
       "      <td>7.0</td>\n",
       "      <td>0</td>\n",
       "      <td>Thu 24.03.2016 14:21</td>\n",
       "    </tr>\n",
       "  </tbody>\n",
       "</table>\n",
       "</div>"
      ],
      "text/plain": [
       "   Temperature  Light  Wind  Pressure  Voltage  Team                    Date\n",
       "0          8.0     47   1.3      1021      6.8     0   Thu 24.03.2016 14:29 \n",
       "1          8.5     49   0.5      1022      6.9     0   Thu 24.03.2016 14:27 \n",
       "2          9.0     56   0.7      1022      6.9     0   Thu 24.03.2016 14:25 \n",
       "3          9.5     50   0.2      1021      7.0     0   Thu 24.03.2016 14:23 \n",
       "4         10.0     43   0.6      1021      7.0     0   Thu 24.03.2016 14:21 "
      ]
     },
     "execution_count": 3,
     "metadata": {},
     "output_type": "execute_result"
    }
   ],
   "source": [
    "table.head()"
   ]
  },
  {
   "cell_type": "code",
   "execution_count": null,
   "metadata": {
    "collapsed": false
   },
   "outputs": [],
   "source": []
  },
  {
   "cell_type": "code",
   "execution_count": null,
   "metadata": {
    "collapsed": false
   },
   "outputs": [],
   "source": []
  }
 ],
 "metadata": {
  "kernelspec": {
   "display_name": "Python 3",
   "language": "python",
   "name": "python3"
  },
  "language_info": {
   "codemirror_mode": {
    "name": "ipython",
    "version": 3
   },
   "file_extension": ".py",
   "mimetype": "text/x-python",
   "name": "python",
   "nbconvert_exporter": "python",
   "pygments_lexer": "ipython3",
   "version": "3.5.1"
  }
 },
 "nbformat": 4,
 "nbformat_minor": 0
}
