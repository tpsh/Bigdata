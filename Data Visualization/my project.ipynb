{
 "cells": [
  {
   "cell_type": "markdown",
   "metadata": {},
   "source": [
    "**В данной папке существует файл с набором данных. Задача: взять эти данные представить таблицу (используя функции Pandos), предоставить  информацию графически (с помощью различных видов предоставления инормации**\n",
    "\n",
    "1. Вывести данные в таблицу\n",
    "2. Найти среднюю температуру за месяц (среднее арифметическое из столбца среднее значение), максимальную температуру за месяц, минимальную температуру за месяц.\n",
    "3. Предоставить графики сравнения трех температур (максимальная, минимальная, средняя) за весь месяц \n",
    "4. Предоставить информацию о сравнении 3 температур (максимальная, минимальная, средняя) в виде столбчатой диаграммы за 1,5,10,15,20,25,30 числа месяца"
   ]
  },
  {
   "cell_type": "code",
   "execution_count": 64,
   "metadata": {
    "collapsed": true
   },
   "outputs": [],
   "source": [
    "import plotly as py\n",
    "import pandas as pd\n",
    "import numpy as np\n",
    "\n",
    "import plotly.plotly as py\n",
    "py.sign_in('Anastasia2102', 'z02xa2n4tg')"
   ]
  },
  {
   "cell_type": "code",
   "execution_count": 65,
   "metadata": {
    "collapsed": false
   },
   "outputs": [
    {
     "name": "stdout",
     "output_type": "stream",
     "text": [
      "-11.758064516129032\n",
      "0.4\n",
      "-19.1\n"
     ]
    }
   ],
   "source": [
    "from pandas import *\n",
    "table = read_csv('2005.csv',';')\n",
    "sred = table[\"avtemperature\"]\n",
    "print(sred.mean())\n",
    "maks = table[\"temperaturemax\"]\n",
    "print(maks.max())\n",
    "mini = table[\"temperaturemin\"]\n",
    "print(mini.min())"
   ]
  },
  {
   "cell_type": "code",
   "execution_count": 66,
   "metadata": {
    "collapsed": false
   },
   "outputs": [
    {
     "name": "stdout",
     "output_type": "stream",
     "text": [
      "High five! You successfuly sent some data to your account on plotly. View your plot in your browser at https://plot.ly/~Anastasia2102/0 or inside your plot.ly account where it is named 'plot from API'\n"
     ]
    },
    {
     "data": {
      "text/html": [
       "<iframe id=\"igraph\" scrolling=\"no\" style=\"border:none;\" seamless=\"seamless\" src=\"https://plot.ly/~Anastasia2102/0.embed\" height=\"525px\" width=\"100%\"></iframe>"
      ],
      "text/plain": [
       "<plotly.tools.PlotlyDisplay object>"
      ]
     },
     "execution_count": 66,
     "metadata": {},
     "output_type": "execute_result"
    }
   ],
   "source": [
    "from plotly.graph_objs import *\n",
    "graf = table[[\"avtemperature\", \"temperaturemax\", \"temperaturemin\"]]\n",
    "py.iplot([{\n",
    "                    'x': table.index,\n",
    "                    'y': table[col],\n",
    "                    'name': col\n",
    "                }\n",
    "         for col in graf.columns])\n"
   ]
  },
  {
   "cell_type": "code",
   "execution_count": 67,
   "metadata": {
    "collapsed": false
   },
   "outputs": [
    {
     "data": {
      "text/html": [
       "<iframe id=\"igraph\" scrolling=\"no\" style=\"border:none;\" seamless=\"seamless\" src=\"https://plot.ly/~Anastasia2102/2.embed\" height=\"525px\" width=\"100%\"></iframe>"
      ],
      "text/plain": [
       "<plotly.tools.PlotlyDisplay object>"
      ]
     },
     "execution_count": 67,
     "metadata": {},
     "output_type": "execute_result"
    }
   ],
   "source": [
    "dat_0 = table[table[\"date\"] == 1]\n",
    "dat_1 = table[table[\"date\"] == 5]\n",
    "dat_2 = table[table[\"date\"] == 10]\n",
    "dat_3 = table[table[\"date\"] == 15]\n",
    "dat_4 = table[table[\"date\"] == 20]\n",
    "dat_5 = table[table[\"date\"] == 25]\n",
    "dat_6 = table[table[\"date\"] == 30]\n",
    "dat = concat([dat_0, dat_1, dat_2, dat_3, dat_4, dat_5, dat_6])\n",
    "py.iplot({\n",
    "        \n",
    "        'data' : [\n",
    "            Bar(**{\n",
    "                    'x':[dat[\"date\"]],\n",
    "                    'y':[dat[\"temperaturemax\"]],\n",
    "                    'name': 'temperaturemax',\n",
    "                    'type': 'bar'\n",
    "                }),\n",
    "            Bar(**{\n",
    "                    'x':[dat[\"date\"]],\n",
    "                    'y':[dat[\"avtemperature\"]],\n",
    "                    'name': 'avtemperature',\n",
    "                    'type': 'bar'\n",
    "                }),\n",
    "            Bar(**{\n",
    "                    'x':[dat[\"date\"]],\n",
    "                    'y':[dat[\"temperaturemin\"]],\n",
    "                    'name': 'temperaturemin',\n",
    "                    'type': 'bar'\n",
    "                })\n",
    "        ], 'layout': Layout(**{\n",
    "                'title': 'data'\n",
    "            })\n",
    "    })"
   ]
  },
  {
   "cell_type": "code",
   "execution_count": 36,
   "metadata": {
    "collapsed": false
   },
   "outputs": [
    {
     "data": {
      "text/html": [
       "<div>\n",
       "<table border=\"1\" class=\"dataframe\">\n",
       "  <thead>\n",
       "    <tr style=\"text-align: right;\">\n",
       "      <th></th>\n",
       "      <th>year</th>\n",
       "      <th>mounth</th>\n",
       "      <th>date</th>\n",
       "      <th>temperaturemin</th>\n",
       "      <th>avtemperature</th>\n",
       "      <th>temperaturemax</th>\n",
       "    </tr>\n",
       "  </thead>\n",
       "  <tbody>\n",
       "    <tr>\n",
       "      <th>0</th>\n",
       "      <td>2005</td>\n",
       "      <td>1</td>\n",
       "      <td>1</td>\n",
       "      <td>-18.9</td>\n",
       "      <td>-15.7</td>\n",
       "      <td>-11.4</td>\n",
       "    </tr>\n",
       "    <tr>\n",
       "      <th>4</th>\n",
       "      <td>2005</td>\n",
       "      <td>1</td>\n",
       "      <td>5</td>\n",
       "      <td>-17.5</td>\n",
       "      <td>-14.5</td>\n",
       "      <td>-9.8</td>\n",
       "    </tr>\n",
       "    <tr>\n",
       "      <th>9</th>\n",
       "      <td>2005</td>\n",
       "      <td>1</td>\n",
       "      <td>10</td>\n",
       "      <td>-18.8</td>\n",
       "      <td>-15.7</td>\n",
       "      <td>-13.1</td>\n",
       "    </tr>\n",
       "    <tr>\n",
       "      <th>14</th>\n",
       "      <td>2005</td>\n",
       "      <td>1</td>\n",
       "      <td>15</td>\n",
       "      <td>-12.7</td>\n",
       "      <td>-11.3</td>\n",
       "      <td>-8.1</td>\n",
       "    </tr>\n",
       "    <tr>\n",
       "      <th>19</th>\n",
       "      <td>2005</td>\n",
       "      <td>1</td>\n",
       "      <td>20</td>\n",
       "      <td>-14.5</td>\n",
       "      <td>-12.4</td>\n",
       "      <td>-10.6</td>\n",
       "    </tr>\n",
       "  </tbody>\n",
       "</table>\n",
       "</div>"
      ],
      "text/plain": [
       "    year  mounth  date  temperaturemin  avtemperature  temperaturemax\n",
       "0   2005       1     1           -18.9          -15.7           -11.4\n",
       "4   2005       1     5           -17.5          -14.5            -9.8\n",
       "9   2005       1    10           -18.8          -15.7           -13.1\n",
       "14  2005       1    15           -12.7          -11.3            -8.1\n",
       "19  2005       1    20           -14.5          -12.4           -10.6"
      ]
     },
     "execution_count": 36,
     "metadata": {},
     "output_type": "execute_result"
    }
   ],
   "source": [
    "dat.head()"
   ]
  },
  {
   "cell_type": "code",
   "execution_count": 68,
   "metadata": {
    "collapsed": false
   },
   "outputs": [
    {
     "data": {
      "text/html": [
       "<iframe id=\"igraph\" scrolling=\"no\" style=\"border:none;\" seamless=\"seamless\" src=\"https://plot.ly/~Anastasia2102/4.embed\" height=\"525px\" width=\"100%\"></iframe>"
      ],
      "text/plain": [
       "<plotly.tools.PlotlyDisplay object>"
      ]
     },
     "execution_count": 68,
     "metadata": {},
     "output_type": "execute_result"
    }
   ],
   "source": [
    "py.iplot({\n",
    "        \n",
    "        'data' : [\n",
    "            Bar(**{\n",
    "                    'x':[dat[\"date\"]],\n",
    "                    'y':[dat[\"temperaturemax\"]],\n",
    "                    'name': 'temperaturemax',\n",
    "                    'type': 'bar'\n",
    "                })\n",
    "            ], 'layout': Layout(**{\n",
    "                'title': 'data'\n",
    "            })\n",
    "    })"
   ]
  },
  {
   "cell_type": "code",
   "execution_count": 69,
   "metadata": {
    "collapsed": false
   },
   "outputs": [
    {
     "data": {
      "text/html": [
       "<iframe id=\"igraph\" scrolling=\"no\" style=\"border:none;\" seamless=\"seamless\" src=\"https://plot.ly/~Anastasia2102/6.embed\" height=\"525px\" width=\"100%\"></iframe>"
      ],
      "text/plain": [
       "<plotly.tools.PlotlyDisplay object>"
      ]
     },
     "execution_count": 69,
     "metadata": {},
     "output_type": "execute_result"
    }
   ],
   "source": [
    "\n",
    "import plotly.graph_objs as go\n",
    "hist = read_csv('data.csv', ';')\n",
    "\n",
    "trace1 = go.Area(\n",
    "    r=[hist[\"windspeed\"]],\n",
    "    t=[hist[\"winddir\"]],\n",
    "    name='m/s',\n",
    "    marker=dict(\n",
    "        color='rgb(106,81,163)'\n",
    "    )\n",
    ")\n",
    "py.iplot({ 'data' : [trace1],\n",
    "'layout': go.Layout(\n",
    "    title='Wind Speed Distribution in Laurel, NE',\n",
    "    font=dict(\n",
    "        size=16\n",
    "    ),\n",
    "    legend=dict(\n",
    "        font=dict(\n",
    "            size=16\n",
    "        )\n",
    "    ),\n",
    "    radialaxis=dict(\n",
    "        ticksuffix='%'\n",
    "    ),\n",
    "    orientation=270\n",
    ")\n",
    "})"
   ]
  },
  {
   "cell_type": "code",
   "execution_count": 87,
   "metadata": {
    "collapsed": false
   },
   "outputs": [
    {
     "data": {
      "text/html": [
       "<iframe id=\"igraph\" scrolling=\"no\" style=\"border:none;\" seamless=\"seamless\" src=\"https://plot.ly/~Anastasia2102/8.embed\" height=\"525px\" width=\"100%\"></iframe>"
      ],
      "text/plain": [
       "<plotly.tools.PlotlyDisplay object>"
      ]
     },
     "execution_count": 87,
     "metadata": {},
     "output_type": "execute_result"
    }
   ],
   "source": [
    "x = [1, 2, 5, 9, 7]\n",
    "\n",
    "data = [\n",
    "    go.Histogram(\n",
    "        x=x\n",
    "    )\n",
    "]\n",
    "py.iplot(data, filename='basic-histogram')"
   ]
  },
  {
   "cell_type": "code",
   "execution_count": null,
   "metadata": {
    "collapsed": true
   },
   "outputs": [],
   "source": []
  }
 ],
 "metadata": {
  "kernelspec": {
   "display_name": "Python 3",
   "language": "python",
   "name": "python3"
  },
  "language_info": {
   "codemirror_mode": {
    "name": "ipython",
    "version": 3
   },
   "file_extension": ".py",
   "mimetype": "text/x-python",
   "name": "python",
   "nbconvert_exporter": "python",
   "pygments_lexer": "ipython3",
   "version": "3.5.1"
  }
 },
 "nbformat": 4,
 "nbformat_minor": 0
}
