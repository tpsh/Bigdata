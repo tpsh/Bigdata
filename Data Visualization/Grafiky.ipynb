{
 "cells": [
  {
   "cell_type": "code",
   "execution_count": 4,
   "metadata": {
    "collapsed": true
   },
   "outputs": [],
   "source": [
    "import plotly as py\n",
    "import pandas as pd\n",
    "import numpy as np\n",
    "\n",
    "import plotly.plotly as py\n",
    "py.sign_in('lisenok1314', 'px7vhqgbfw')"
   ]
  },
  {
   "cell_type": "code",
   "execution_count": 3,
   "metadata": {
    "collapsed": false
   },
   "outputs": [
    {
     "data": {
      "text/html": [
       "<iframe id=\"igraph\" scrolling=\"no\" style=\"border:none;\" seamless=\"seamless\" src=\"https://plot.ly/~lisenok1314/73.embed\" height=\"525px\" width=\"100%\"></iframe>"
      ],
      "text/plain": [
       "<plotly.tools.PlotlyDisplay object>"
      ]
     },
     "execution_count": 3,
     "metadata": {},
     "output_type": "execute_result"
    }
   ],
   "source": [
    "from plotly.graph_objs import *\n",
    "py.iplot({\n",
    "        'data': [\n",
    "            Bar(**{\n",
    "                    'x':[1,2,3,4,5],\n",
    "                    'y':[2,4,7,3,1],\n",
    "                    'name': 't_vozdux',\n",
    "                    'type': 'bar'\n",
    "                    })\n",
    "            ],\n",
    "        'layout': Layout(**{\n",
    "                'title' : 'temperature of Ocean'\n",
    "                })\n",
    "        })"
   ]
  },
  {
   "cell_type": "code",
   "execution_count": 16,
   "metadata": {
    "collapsed": false
   },
   "outputs": [
    {
     "data": {
      "text/html": [
       "<iframe id=\"igraph\" scrolling=\"no\" style=\"border:none;\" seamless=\"seamless\" src=\"https://plot.ly/~lisenok1314/11.embed\" height=\"525px\" width=\"100%\"></iframe>"
      ],
      "text/plain": [
       "<plotly.tools.PlotlyDisplay object>"
      ]
     },
     "execution_count": 16,
     "metadata": {},
     "output_type": "execute_result"
    }
   ],
   "source": [
    "from plotly.graph_objs import *\n",
    "py.iplot({\n",
    "        'data': [\n",
    "            Bar(**{\n",
    "                    'x':[1,2,3,4,5],\n",
    "                    'y':[2,4,7,3,1],\n",
    "                    'name': 't_vozdux',\n",
    "                    'type': 'bar'\n",
    "                    }),\n",
    "            Bar(**{\n",
    "                    'x':[1,2,3,4,5],\n",
    "                    'y':[0.5,1,3,5,4],\n",
    "                    'name': 't_voda',\n",
    "                    'type': 'bar'\n",
    "                    })\n",
    "        \n",
    "            ],\n",
    "        'layout': Layout(**{\n",
    "                'title' : 'temperature of Ocean'\n",
    "                })\n",
    "        })"
   ]
  },
  {
   "cell_type": "code",
   "execution_count": 17,
   "metadata": {
    "collapsed": false
   },
   "outputs": [
    {
     "data": {
      "text/html": [
       "<iframe id=\"igraph\" scrolling=\"no\" style=\"border:none;\" seamless=\"seamless\" src=\"https://plot.ly/~lisenok1314/13.embed\" height=\"525px\" width=\"100%\"></iframe>"
      ],
      "text/plain": [
       "<plotly.tools.PlotlyDisplay object>"
      ]
     },
     "execution_count": 17,
     "metadata": {},
     "output_type": "execute_result"
    }
   ],
   "source": [
    "from plotly.graph_objs import *\n",
    "py.iplot({\n",
    "        'data': [\n",
    "            Bar(**{\n",
    "                    'x':[1,2,3,4,5],\n",
    "                    'y':[2,4,7,3,1],\n",
    "                    'name': 't_vozdux',\n",
    "                    'type': 'bar'\n",
    "                    }),\n",
    "            Bar(**{\n",
    "                    'x':[1,2,3,4,5],\n",
    "                    'y':[0.5,1,3,5,4],\n",
    "                    'name': 't_voda',\n",
    "                    'type': 'bar'\n",
    "                    })\n",
    "        \n",
    "            ],\n",
    "        'layout': Layout(**{\n",
    "                'title' : 'temperature of Ocean'\n",
    "                })\n",
    "        })"
   ]
  },
  {
   "cell_type": "code",
   "execution_count": 5,
   "metadata": {
    "collapsed": false
   },
   "outputs": [
    {
     "data": {
      "text/html": [
       "<iframe id=\"igraph\" scrolling=\"no\" style=\"border:none;\" seamless=\"seamless\" src=\"https://plot.ly/~lisenok1314/75.embed\" height=\"525px\" width=\"100%\"></iframe>"
      ],
      "text/plain": [
       "<plotly.tools.PlotlyDisplay object>"
      ]
     },
     "execution_count": 5,
     "metadata": {},
     "output_type": "execute_result"
    }
   ],
   "source": [
    "import pandas\n",
    "from pandas import *\n",
    "table = read_csv('data.csv', ';')\n",
    "table[\"temperature\"]\n",
    "py.iplot([{\n",
    "            'x': table.index,\n",
    "            'y': table[\"temperature\"],\n",
    "            'name': 'temperature'\n",
    "            }])"
   ]
  },
  {
   "cell_type": "code",
<<<<<<< HEAD
   "execution_count": 7,
=======
   "execution_count": 45,
>>>>>>> origin/master
   "metadata": {
    "collapsed": false
   },
   "outputs": [
    {
     "data": {
      "text/html": [
<<<<<<< HEAD
       "<iframe id=\"igraph\" scrolling=\"no\" style=\"border:none;\" seamless=\"seamless\" src=\"https://plot.ly/~lisenok1314/121.embed\" height=\"525px\" width=\"100%\"></iframe>"
=======
       "<iframe id=\"igraph\" scrolling=\"no\" style=\"border:none;\" seamless=\"seamless\" src=\"https://plot.ly/~lisenok1314/51.embed\" height=\"525px\" width=\"100%\"></iframe>"
>>>>>>> origin/master
      ],
      "text/plain": [
       "<plotly.tools.PlotlyDisplay object>"
      ]
     },
<<<<<<< HEAD
     "execution_count": 7,
=======
     "execution_count": 45,
>>>>>>> origin/master
     "metadata": {},
     "output_type": "execute_result"
    }
   ],
   "source": [
    "table[\"temperature\"]\n",
    "graf = table[[\"temperature\", \"windspeed\"]]\n",
    "py.iplot([{\n",
    "            'x': table.index,\n",
    "            'y': table[col],\n",
    "            'name': col\n",
    "            }\n",
    "         for col in graf.columns])\n"
   ]
  }
 ],
 "metadata": {
  "kernelspec": {
   "display_name": "Python 3",
   "language": "python",
   "name": "python3"
  },
  "language_info": {
   "codemirror_mode": {
    "name": "ipython",
    "version": 3
   },
   "file_extension": ".py",
   "mimetype": "text/x-python",
   "name": "python",
   "nbconvert_exporter": "python",
   "pygments_lexer": "ipython3",
   "version": "3.5.1"
  }
 },
 "nbformat": 4,
 "nbformat_minor": 0
}
